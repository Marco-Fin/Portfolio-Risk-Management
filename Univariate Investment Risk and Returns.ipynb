{
 "cells": [
  {
   "cell_type": "markdown",
   "metadata": {},
   "source": [
    "# Financial timeseries data"
   ]
  },
  {
   "cell_type": "code",
   "execution_count": 1,
   "metadata": {},
   "outputs": [],
   "source": [
    "import numpy as np\n",
    "from datetime import datetime\n",
    "import matplotlib.pyplot as plt\n",
    "import warnings\n",
    "warnings.filterwarnings('ignore')\n",
    "from pandas_datareader import DataReader\n",
    "from scipy.stats import skew, kurtosis, shapiro"
   ]
  },
  {
   "cell_type": "code",
   "execution_count": 2,
   "metadata": {},
   "outputs": [],
   "source": [
    "itau = DataReader('ITSA4.SA','yahoo', datetime(2000, 1, 1), datetime(2019,6, 30))\n",
    "itau = itau.sort_values(by='Date')"
   ]
  },
  {
   "cell_type": "code",
   "execution_count": 3,
   "metadata": {},
   "outputs": [
    {
     "data": {
      "text/html": [
       "<div>\n",
       "<style scoped>\n",
       "    .dataframe tbody tr th:only-of-type {\n",
       "        vertical-align: middle;\n",
       "    }\n",
       "\n",
       "    .dataframe tbody tr th {\n",
       "        vertical-align: top;\n",
       "    }\n",
       "\n",
       "    .dataframe thead th {\n",
       "        text-align: right;\n",
       "    }\n",
       "</style>\n",
       "<table border=\"1\" class=\"dataframe\">\n",
       "  <thead>\n",
       "    <tr style=\"text-align: right;\">\n",
       "      <th></th>\n",
       "      <th>High</th>\n",
       "      <th>Low</th>\n",
       "      <th>Open</th>\n",
       "      <th>Close</th>\n",
       "      <th>Volume</th>\n",
       "      <th>Adj Close</th>\n",
       "    </tr>\n",
       "    <tr>\n",
       "      <th>Date</th>\n",
       "      <th></th>\n",
       "      <th></th>\n",
       "      <th></th>\n",
       "      <th></th>\n",
       "      <th></th>\n",
       "      <th></th>\n",
       "    </tr>\n",
       "  </thead>\n",
       "  <tbody>\n",
       "    <tr>\n",
       "      <th>2019-06-24</th>\n",
       "      <td>12.72</td>\n",
       "      <td>12.56</td>\n",
       "      <td>12.62</td>\n",
       "      <td>12.65</td>\n",
       "      <td>23706900.0</td>\n",
       "      <td>12.013014</td>\n",
       "    </tr>\n",
       "    <tr>\n",
       "      <th>2019-06-25</th>\n",
       "      <td>12.73</td>\n",
       "      <td>12.48</td>\n",
       "      <td>12.62</td>\n",
       "      <td>12.58</td>\n",
       "      <td>48985900.0</td>\n",
       "      <td>11.946539</td>\n",
       "    </tr>\n",
       "    <tr>\n",
       "      <th>2019-06-26</th>\n",
       "      <td>13.00</td>\n",
       "      <td>12.63</td>\n",
       "      <td>12.63</td>\n",
       "      <td>12.98</td>\n",
       "      <td>91411400.0</td>\n",
       "      <td>12.326397</td>\n",
       "    </tr>\n",
       "    <tr>\n",
       "      <th>2019-06-27</th>\n",
       "      <td>13.07</td>\n",
       "      <td>12.75</td>\n",
       "      <td>12.85</td>\n",
       "      <td>12.94</td>\n",
       "      <td>27201500.0</td>\n",
       "      <td>12.288410</td>\n",
       "    </tr>\n",
       "    <tr>\n",
       "      <th>2019-06-28</th>\n",
       "      <td>13.06</td>\n",
       "      <td>12.88</td>\n",
       "      <td>13.06</td>\n",
       "      <td>12.89</td>\n",
       "      <td>17982400.0</td>\n",
       "      <td>12.240929</td>\n",
       "    </tr>\n",
       "  </tbody>\n",
       "</table>\n",
       "</div>"
      ],
      "text/plain": [
       "             High    Low   Open  Close      Volume  Adj Close\n",
       "Date                                                         \n",
       "2019-06-24  12.72  12.56  12.62  12.65  23706900.0  12.013014\n",
       "2019-06-25  12.73  12.48  12.62  12.58  48985900.0  11.946539\n",
       "2019-06-26  13.00  12.63  12.63  12.98  91411400.0  12.326397\n",
       "2019-06-27  13.07  12.75  12.85  12.94  27201500.0  12.288410\n",
       "2019-06-28  13.06  12.88  13.06  12.89  17982400.0  12.240929"
      ]
     },
     "execution_count": 3,
     "metadata": {},
     "output_type": "execute_result"
    }
   ],
   "source": [
    "itau.tail()"
   ]
  },
  {
   "cell_type": "markdown",
   "metadata": {},
   "source": [
    "## Calculating financial returns \n",
    "\n",
    "The file loaded included daily Open, High, Low, Close, Adjusted Close, and Volume data, often referred to as OHLCV data.\n",
    "\n",
    "The Adjusted Close column is the most important. It is normalized for stock splits, dividends, and other corporate actions, and is a true reflection of the return of the stock over time. We will be using the adjusted close price to calculate the returns of the stock in this exercise."
   ]
  },
  {
   "cell_type": "code",
   "execution_count": 4,
   "metadata": {},
   "outputs": [
    {
     "name": "stdout",
     "output_type": "stream",
     "text": [
      "               High      Low     Open    Close      Volume  Adj Close  \\\n",
      "Date                                                                    \n",
      "2000-01-03  1.14360  1.01290  1.01835  1.08370  10285107.0   0.620248   \n",
      "2000-01-04  1.04558  0.98023  1.04558  0.98023  12071740.0   0.561028   \n",
      "2000-01-05  1.06192  0.94756  0.98568  1.06192   9163033.0   0.607783   \n",
      "2000-01-06  1.08370  1.05102  1.05647  1.07825  23085841.0   0.617129   \n",
      "2000-01-07  1.10548  1.06192  1.08914  1.07281  11216095.0   0.614016   \n",
      "\n",
      "             Returns  \n",
      "Date                  \n",
      "2000-01-03       NaN  \n",
      "2000-01-04 -0.095478  \n",
      "2000-01-05  0.083338  \n",
      "2000-01-06  0.015378  \n",
      "2000-01-07 -0.005045  \n"
     ]
    }
   ],
   "source": [
    "itau['Returns'] = itau['Adj Close'].pct_change()\n",
    "print(itau.head())"
   ]
  },
  {
   "cell_type": "code",
   "execution_count": 5,
   "metadata": {},
   "outputs": [
    {
     "data": {
      "image/png": "[encoded data removed]",
      "text/plain": [
       "<Figure size 432x288 with 1 Axes>"
      ]
     },
     "metadata": {
      "needs_background": "light"
     },
     "output_type": "display_data"
    }
   ],
   "source": [
    "itau['Returns'].plot()\n",
    "plt.show()"
   ]
  },
  {
   "cell_type": "markdown",
   "metadata": {},
   "source": [
    "## Return distributions\n",
    "\n",
    "In order to analyze the probability of outliers in returns, it is helpful to visualize the historical returns of a stock using a histogram.\n",
    "\n",
    "The outliers on the left tail of the return distribution are what we often want to avoid, as they represent large negative daily returns. Outliers on the right hand side of the distribution are normally particularly good events for the stock such as a positive earnings surprise."
   ]
  },
  {
   "cell_type": "code",
   "execution_count": 6,
   "metadata": {},
   "outputs": [
    {
     "data": {
      "image/png": "[encoded data removed]",
      "text/plain": [
       "<Figure size 432x288 with 1 Axes>"
      ]
     },
     "metadata": {
      "needs_background": "light"
     },
     "output_type": "display_data"
    }
   ],
   "source": [
    "percent_return = itau['Returns']*100\n",
    "returns_plot = percent_return.dropna()\n",
    "plt.hist(returns_plot, bins=75)\n",
    "plt.show()"
   ]
  },
  {
   "cell_type": "markdown",
   "metadata": {},
   "source": [
    "## First moment: Mu\n",
    "\n",
    "When we are calculating the average daily return of a stock, we are essentially estimating the first moment ( μ ) of the historical returns distribution.\n",
    "\n",
    "But what use are daily return estimates to a long-term investor? We can use the formula below to estimate the average annual return of a stock given the average daily return and the number of trading days in a year (typically there are roughly 252 trading days in a year):\n",
    "\n",
    "Average Annualized Return: ((1 + μ)$^{252})$ - 1\n"
   ]
  },
  {
   "cell_type": "code",
   "execution_count": 7,
   "metadata": {},
   "outputs": [
    {
     "name": "stdout",
     "output_type": "stream",
     "text": [
      "Average Daily Return - 0.10%\n",
      "Average Annualized Return - 29.22%\n"
     ]
    }
   ],
   "source": [
    "mean_return_daily = np.mean(itau['Returns'])\n",
    "print(\"Average Daily Return - {:.2f}%\".format(mean_return_daily*100))\n",
    "\n",
    "mean_return_annualized = ((1+mean_return_daily)**252)-1\n",
    "print(\"Average Annualized Return - {:.2f}%\".format(mean_return_annualized*100))"
   ]
  },
  {
   "cell_type": "markdown",
   "metadata": {},
   "source": [
    "## Second moment: Variance\n",
    "\n",
    "Just like we estimated the first moment of the returns distribution above, we can also estimate the second moment, or variance of a return distribution using numpy.\n",
    "\n",
    "In this case, we will first need to calculate the daily standard deviation ( $σ$ ), or volatility of the returns using np.std(). The variance is simply $σ^2$."
   ]
  },
  {
   "cell_type": "code",
   "execution_count": 8,
   "metadata": {},
   "outputs": [
    {
     "name": "stdout",
     "output_type": "stream",
     "text": [
      "Daily Volatility - 2.83 %\n",
      "Daily Variance - 0.08 %\n"
     ]
    }
   ],
   "source": [
    "sigma_daily = np.std(itau['Returns'])\n",
    "print(\"Daily Volatility - {:.2f} %\".format(sigma_daily*100))\n",
    "\n",
    "variance_daily = sigma_daily**2\n",
    "print(\"Daily Variance - {:.2f} %\".format(variance_daily*100))"
   ]
  },
  {
   "cell_type": "code",
   "execution_count": 9,
   "metadata": {},
   "outputs": [
    {
     "name": "stdout",
     "output_type": "stream",
     "text": [
      "Annualized Volatility - 44.93 %\n",
      "Annualized Variance - 20.18 %\n"
     ]
    }
   ],
   "source": [
    "sigma_annualized = sigma_daily*np.sqrt(252)\n",
    "print(\"Annualized Volatility - {:.2f} %\".format(sigma_annualized*100))\n",
    "\n",
    "variance_annualized = sigma_annualized**2\n",
    "print(\"Annualized Variance - {:.2f} %\".format(variance_annualized*100))"
   ]
  },
  {
   "cell_type": "markdown",
   "metadata": {},
   "source": [
    "## Third moment: Skewness\n",
    "\n",
    "A negative skew is a right-leaning curve, while positive skew is a left-leaning curve. In finance, we would tend to want positive skewness, as this would mean that the probability of large positive returns is unusually high, and the negative returns are more closely clustered and predictable."
   ]
  },
  {
   "cell_type": "code",
   "execution_count": 10,
   "metadata": {},
   "outputs": [],
   "source": [
    "clean_returns = itau['Returns'].dropna()"
   ]
  },
  {
   "cell_type": "code",
   "execution_count": 11,
   "metadata": {},
   "outputs": [
    {
     "name": "stdout",
     "output_type": "stream",
     "text": [
      "Skewness (Normal Distribution would have a skewness much closer to 0): 0.34\n"
     ]
    }
   ],
   "source": [
    "returns_skewness = skew(clean_returns)\n",
    "print(\"Skewness (Normal Distribution would have a skewness much closer to 0): {:.2f}\".format(returns_skewness))"
   ]
  },
  {
   "cell_type": "markdown",
   "metadata": {},
   "source": [
    "## Fourth moment: Kurtosis\n",
    "\n",
    "Note that this function actually returns the excess kurtosis, not the 4th moment itself. In order to calculate kurtosis, simply add 3 to the excess kurtosis returned by kurtosis()."
   ]
  },
  {
   "cell_type": "code",
   "execution_count": 12,
   "metadata": {},
   "outputs": [
    {
     "name": "stdout",
     "output_type": "stream",
     "text": [
      "Excess Kurtosis (Normal Distribution would have an excess kurtosis of 0): 6.31\n",
      "Kurtosis (Normal Distribution would have a kurtosis of 3): 9.31\n"
     ]
    }
   ],
   "source": [
    "# Calculate the excess kurtosis of the returns distribution\n",
    "excess_kurtosis = kurtosis(clean_returns)\n",
    "print(\"Excess Kurtosis (Normal Distribution would have an excess kurtosis of 0): {:.2f}\".format(excess_kurtosis))\n",
    "\n",
    "# Derive the true fourth moment of the returns distribution\n",
    "fourth_moment = excess_kurtosis + 3\n",
    "print(\"Kurtosis (Normal Distribution would have a kurtosis of 3): {:.2f}\".format(fourth_moment))"
   ]
  },
  {
   "cell_type": "markdown",
   "metadata": {},
   "source": [
    "# Statistical tests for normality\n",
    "In order to truly be confident in judgement of the normality of the stock's return distribution, we will want to use a true statistical test rather than simply examining the kurtosis or skewness.\n",
    "\n",
    "We can use the shapiro() function from scipy.stats to run a Shapiro-Wilk test of normality on the stock returns. The function will return two values in a list. The first value is the t-stat of the test, and the second value is the p-value. We can use the p-value to make a judgement about the normality of the data. If the p-value is less than or equal to 0.05, we can safely reject the null hypothesis of normality and assume that the data are non-normally distributed."
   ]
  },
  {
   "cell_type": "code",
   "execution_count": 13,
   "metadata": {},
   "outputs": [
    {
     "name": "stdout",
     "output_type": "stream",
     "text": [
      "Shapiro results: ShapiroResult(statistic=0.9024592041969299, pvalue=0.0)\n",
      "P-value:  0.0\n"
     ]
    }
   ],
   "source": [
    "shapiro_results = shapiro(clean_returns)\n",
    "print(\"Shapiro results:\", shapiro_results)\n",
    "\n",
    "# Extract the p-value from the shapiro_results\n",
    "p_value = shapiro_results[1]\n",
    "print(\"P-value: \", p_value) # The p-value is 0, so null hypothesis of normality is rejected. The data are non-normal."
   ]
  }
 ],
 "metadata": {
  "kernelspec": {
   "display_name": "Python 3",
   "language": "python",
   "name": "python3"
  },
  "language_info": {
   "codemirror_mode": {
    "name": "ipython",
    "version": 3
   },
   "file_extension": ".py",
   "mimetype": "text/x-python",
   "name": "python",
   "nbconvert_exporter": "python",
   "pygments_lexer": "ipython3",
   "version": "3.7.6"
  }
 },
 "nbformat": 4,
 "nbformat_minor": 4
}
